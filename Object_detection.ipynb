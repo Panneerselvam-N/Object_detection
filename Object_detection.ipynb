{
 "metadata": {
  "language_info": {
   "codemirror_mode": {
    "name": "ipython",
    "version": 3
   },
   "file_extension": ".py",
   "mimetype": "text/x-python",
   "name": "python",
   "nbconvert_exporter": "python",
   "pygments_lexer": "ipython3",
   "version": "3.8.5"
  },
  "orig_nbformat": 2,
  "kernelspec": {
   "name": "python385jvsc74a57bd01f2dbe4e979621e2b07f4961dd6a21fd0d90b9f25b9bd6a88e67ac084c350f37",
   "display_name": "Python 3.8.5 64-bit ('myenv': conda)"
  },
  "metadata": {
   "interpreter": {
    "hash": "1f2dbe4e979621e2b07f4961dd6a21fd0d90b9f25b9bd6a88e67ac084c350f37"
   }
  }
 },
 "nbformat": 4,
 "nbformat_minor": 2,
 "cells": [
  {
   "source": [
    "### Name : Panneerselvam N\n",
    "### Intern : IOT & Computer Vision Intern at The Sparks Foundation\n",
    "### Batch  : May 2021\n",
    "### Task 1  : Object Detection Using Opencv and python\n"
   ],
   "cell_type": "markdown",
   "metadata": {}
  },
  {
   "cell_type": "code",
   "execution_count": 2,
   "metadata": {},
   "outputs": [],
   "source": [
    "## Import required packages\n",
    "\n",
    "import cv2\n",
    "import numpy as np"
   ]
  },
  {
   "cell_type": "code",
   "execution_count": 3,
   "metadata": {},
   "outputs": [],
   "source": [
    "## initialize the list of class labels \n",
    "CLASSES = [\"background\", \"aeroplane\", \"bicycle\", \"bird\", \"boat\",\n",
    "\t\"bottle\", \"bus\", \"car\", \"cat\", \"chair\", \"cow\", \"diningtable\",\n",
    "\t\"dog\", \"horse\", \"motorbike\", \"person\", \"pottedplant\", \"sheep\",\n",
    "\t\"sofa\", \"train\", \"tvmonitor\"]\n",
    "## Generate Random Value for Boundinbox color(RGB)\n",
    "COLORS = np.random.uniform(0, 255, size=(len(CLASSES), 3))\n"
   ]
  },
  {
   "cell_type": "code",
   "execution_count": 4,
   "metadata": {},
   "outputs": [],
   "source": [
    "# Load Caffe Model and weights\n",
    "net=cv2.dnn.readNetFromCaffe('MobileNetSSD.prototxt','MobileNetSSD.caffemodel')"
   ]
  },
  {
   "cell_type": "code",
   "execution_count": 5,
   "metadata": {},
   "outputs": [],
   "source": [
    "## Read Input Image Data\n",
    "img = cv2.imread('test1.jpg')\n",
    "(h,w) = img.shape[:2]\n",
    "\n",
    "##Pre-process\n",
    "blob = cv2.dnn.blobFromImage(img,0.007843,(300, 300), 127.5)"
   ]
  },
  {
   "cell_type": "code",
   "execution_count": 6,
   "metadata": {},
   "outputs": [],
   "source": [
    "## Pass input to Network\n",
    "net.setInput(blob)\n",
    "detections = net.forward()"
   ]
  },
  {
   "cell_type": "code",
   "execution_count": 7,
   "metadata": {},
   "outputs": [],
   "source": [
    "# Draw Bounding Box\n",
    "\n",
    "for i in np.arange(0,detections.shape[2]):\n",
    "    \n",
    "    # get Confidence\n",
    "    confidence = detections[0,0,i,2]\n",
    "\n",
    "    if confidence > 0.60:\n",
    "        idx = detections[0,0,i,1].astype('int')\n",
    "        box = detections[0,0,i,3:7] * np.array([w,h,w,h])\n",
    "        (startX,startY,endX,endY) = box.astype('int')\n",
    "        label = \"{}: {:.2f}%\".format(CLASSES[idx], confidence * 100)\n",
    "        cv2.rectangle(img,(startX,startY),(endX,endY),COLORS[idx],2)\n",
    "        cv2.putText(img,CLASSES[idx],(startX,startY-15),cv2.FONT_HERSHEY_SIMPLEX,0.5,COLORS[idx],2)\n",
    "\n"
   ]
  },
  {
   "cell_type": "code",
   "execution_count": 8,
   "metadata": {},
   "outputs": [],
   "source": [
    "# Show Output\n",
    "cv2.imshow('output',img)\n",
    "cv2.imwrite('output.png',img)\n",
    "cv2.waitKey(0)\n",
    "cv2.destroyAllWindows()"
   ]
  },
  {
   "cell_type": "code",
   "execution_count": null,
   "metadata": {},
   "outputs": [],
   "source": []
  }
 ]
}